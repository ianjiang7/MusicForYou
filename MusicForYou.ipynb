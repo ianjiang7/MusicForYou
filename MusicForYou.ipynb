{
  "nbformat": 4,
  "nbformat_minor": 0,
  "metadata": {
    "colab": {
      "provenance": [],
      "authorship_tag": "ABX9TyO/gXs0mCacN+YqA8xv71fp",
      "include_colab_link": true
    },
    "kernelspec": {
      "name": "python3",
      "display_name": "Python 3"
    },
    "language_info": {
      "name": "python"
    }
  },
  "cells": [
    {
      "cell_type": "markdown",
      "metadata": {
        "id": "view-in-github",
        "colab_type": "text"
      },
      "source": [
        "<a href=\"https://colab.research.google.com/github/ianjiang7/MusicForYou/blob/main/MusicForYou.ipynb\" target=\"_parent\"><img src=\"https://colab.research.google.com/assets/colab-badge.svg\" alt=\"Open In Colab\"/></a>"
      ]
    },
    {
      "cell_type": "markdown",
      "source": [
        "**Data Features: Music For You**"
      ],
      "metadata": {
        "id": "6NXLz8SXgciq"
      }
    },
    {
      "cell_type": "code",
      "source": [
        "from google.colab import userdata\n",
        "TASTE_DIVE_KEY = userdata.get('TASTE_DIVE_KEY')\n",
        "TICKETMASTER_KEY = userdata.get('TICKETMASTER_KEY')\n",
        "\n",
        "if TASTE_DIVE_KEY:\n",
        "  print(\"Taste Dive key retrieved successfully\")\n",
        "else:\n",
        "  print(\"Failed to retrieve Taste Dive key\")\n",
        "if TICKETMASTER_KEY:\n",
        "  print(\"Ticketmaster key retrieved successfully\")\n",
        "else:\n",
        "  print(\"Failed to retrieved Ticketmaster key\")\n"
      ],
      "metadata": {
        "colab": {
          "base_uri": "https://localhost:8080/"
        },
        "id": "ueesyFdeC0_Z",
        "outputId": "a536bd56-48ae-4a53-bf41-f33a5d94cfce"
      },
      "execution_count": 3,
      "outputs": [
        {
          "output_type": "stream",
          "name": "stdout",
          "text": [
            "Taste Dive key retrieved successfully\n",
            "Ticketmaster key retrieved successfully\n"
          ]
        }
      ]
    },
    {
      "cell_type": "code",
      "source": [
        "import requests\n",
        "\n",
        "def get_artists(artist):\n",
        "        url = f'https://tastedive.com/api/similar?q={artist}&type=music&limit=5&k={TASTE_DIVE_KEY}'\n",
        "        response = requests.get(url)\n",
        "        if response.status_code == 200:\n",
        "          results = response.json()\n",
        "          results = results[\"similar\"][\"results\"]\n",
        "          print(f\"Similar artists to {artist}:\")\n",
        "          for i in range (len(results)):\n",
        "              results[i] = results[i][\"name\"]\n",
        "              print(results[i])\n",
        "        else:\n",
        "          print(\"Artist couldn't be found, try again\")\n",
        "          return []\n",
        "        return results"
      ],
      "metadata": {
        "id": "Lfj3i4F_EBzZ"
      },
      "execution_count": 37,
      "outputs": []
    },
    {
      "cell_type": "code",
      "source": [
        "def display_concerts(artists):\n",
        "  count = 0\n",
        "  for i in range(len(artists)):\n",
        "    url = f\"https://app.ticketmaster.com/discovery/v2/events.json?classificationName=music&keyword={artists[i]}&size=5&apikey={TICKETMASTER_KEY}\"\n",
        "    response = requests.get(url)\n",
        "    results = response.json()\n",
        "    if \"_embedded\" in results.keys():\n",
        "      results = results[\"_embedded\"][\"events\"][0]\n",
        "      name = results[\"name\"]\n",
        "      date = results[\"dates\"][\"start\"][\"localDate\"]\n",
        "      link = results[\"url\"]\n",
        "      print(f\"See {artists[i]} at {name} on {date}. Ticketmaster Link: {link}\")\n",
        "      count += 1\n",
        "    else:\n",
        "      continue\n",
        "  if count == 0:\n",
        "    print(\"No concerts or events found for these artists\")"
      ],
      "metadata": {
        "id": "2BlgdujzKQ6N"
      },
      "execution_count": 62,
      "outputs": []
    },
    {
      "cell_type": "code",
      "source": [
        "artists = []\n",
        "while artists == []:\n",
        "  artist = input(\"Enter an artist you like:\")\n",
        "  artists = get_artists(artist)\n",
        "display_concerts(artists)"
      ],
      "metadata": {
        "colab": {
          "base_uri": "https://localhost:8080/"
        },
        "id": "thuwylOcTA5Z",
        "outputId": "5617aa65-f386-47d7-c1fd-fca1a8b78c63"
      },
      "execution_count": 66,
      "outputs": [
        {
          "output_type": "stream",
          "name": "stdout",
          "text": [
            "Enter an artist you like:\n",
            "Artist couldn't be found, try again\n",
            "Enter an artist you like:kendrick lamar\n",
            "Similar artists to kendrick lamar:\n",
            "Pusha T\n",
            "A$AP Rocky\n",
            "ScHoolboy Q\n",
            "Tyler, the Creator\n",
            "Chance the Rapper\n",
            "See Pusha T at KID CUDI: INSANO: ENGAGE THE RAGE WORLD TOUR on 2025-03-09. Ticketmaster Link: https://www.ticketmaster.be/event/kid-cudi-insano-engage-the-rage-world-tour-tickets/60717\n",
            "See Tyler, the Creator at Austin City Limits Music Festival - Weekend One on 2024-10-04. Ticketmaster Link: https://on.fgtix.com/trk/v8SK\n"
          ]
        }
      ]
    }
  ]
}